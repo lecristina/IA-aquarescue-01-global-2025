{
 "cells": [
  {
   "cell_type": "markdown",
   "id": "afd3f4d0",
   "metadata": {},
   "source": [
    "# AquaRescue - Previsão de Seca por Comunidade\n",
    "\n",
    "Este notebook realiza uma simulação para prever o risco de seca com base em dados meteorológicos e populacionais das comunidades."
   ]
  },
  {
   "cell_type": "code",
   "execution_count": null,
   "id": "ffb9927e",
   "metadata": {},
   "outputs": [],
   "source": [
    "\n",
    "import pandas as pd\n",
    "import numpy as np\n",
    "import matplotlib.pyplot as plt\n",
    "from datetime import datetime, timedelta\n",
    "import random\n",
    "\n",
    "np.random.seed(42)\n",
    "random.seed(42)\n",
    "\n",
    "comunidades = ['Comunidade A', 'Comunidade B', 'Comunidade C']\n",
    "n_dias = 60\n",
    "\n",
    "dados = []\n",
    "\n",
    "for comunidade in comunidades:\n",
    "    base_date = datetime.today() - timedelta(days=n_dias)\n",
    "    for i in range(n_dias):\n",
    "        data = base_date + timedelta(days=i)\n",
    "        temperatura = round(np.random.normal(30, 5), 2)\n",
    "        umidade = round(np.random.uniform(20, 90), 2)\n",
    "        ponto_orvalho = round(temperatura - ((100 - umidade) / 5), 2)\n",
    "        pressao = round(np.random.normal(1013, 10), 2)\n",
    "        vel_vento = round(np.random.uniform(0, 10), 2)\n",
    "        dir_vento = random.choice(['N', 'S', 'E', 'W'])\n",
    "        rajada = vel_vento + np.random.uniform(0, 5)\n",
    "        radiacao = round(np.random.uniform(200, 1000), 2)\n",
    "        chuva = round(np.random.exponential(scale=2), 2)\n",
    "        habitantes = random.randint(100, 1000)\n",
    "        consumo = round(np.random.uniform(50, 150), 2)\n",
    "        volume_total = habitantes * consumo\n",
    "        dados.append([comunidade, data, temperatura, umidade, ponto_orvalho, pressao,\n",
    "                      vel_vento, dir_vento, rajada, radiacao, chuva, habitantes,\n",
    "                      consumo, volume_total])\n",
    "\n",
    "colunas = ['Comunidade', 'Data', 'Temperatura', 'Umidade', 'PontoOrvalho', 'Pressao',\n",
    "           'VelocidadeVento', 'DirecaoVento', 'RajadaVento', 'Radiacao', 'Chuva',\n",
    "           'Habitantes', 'ConsumoPorPessoa', 'VolumeTotal']\n",
    "\n",
    "df = pd.DataFrame(dados, columns=colunas)\n",
    "df.head()\n"
   ]
  },
  {
   "cell_type": "markdown",
   "id": "c610d3ac",
   "metadata": {},
   "source": [
    "## Análise de Risco de Seca"
   ]
  },
  {
   "cell_type": "code",
   "execution_count": null,
   "id": "442d089e",
   "metadata": {},
   "outputs": [],
   "source": [
    "\n",
    "df['RiscoSeca'] = (df['Umidade'] < 30) & (df['Chuva'] < 0.5)\n",
    "\n",
    "# Criar uma previsão básica\n",
    "prev = df.groupby('Comunidade').tail(7).groupby('Comunidade')[['Temperatura', 'Umidade', 'Chuva']].mean().reset_index()\n",
    "prev['VolumePrevisto'] = df.groupby('Comunidade')['VolumeTotal'].mean().values\n",
    "prev['DataPrevista'] = datetime.today() + timedelta(days=7)\n",
    "prev\n"
   ]
  },
  {
   "cell_type": "markdown",
   "id": "390927e1",
   "metadata": {},
   "source": [
    "## Visualização do Risco de Seca"
   ]
  },
  {
   "cell_type": "code",
   "execution_count": null,
   "id": "26a8aa22",
   "metadata": {},
   "outputs": [],
   "source": [
    "\n",
    "for comunidade in df['Comunidade'].unique():\n",
    "    sub_df = df[df['Comunidade'] == comunidade]\n",
    "    plt.figure(figsize=(12,4))\n",
    "    plt.title(f'Risco de Seca - {comunidade}')\n",
    "    plt.plot(sub_df['Data'], sub_df['Umidade'], label='Umidade (%)')\n",
    "    plt.plot(sub_df['Data'], sub_df['Chuva'], label='Chuva (mm)')\n",
    "    plt.axhline(y=30, color='red', linestyle='--', label='Limite Crítico Umidade')\n",
    "    plt.axhline(y=0.5, color='orange', linestyle='--', label='Limite Crítico Chuva')\n",
    "    plt.fill_between(sub_df['Data'], 0, 1, where=sub_df['RiscoSeca'], color='red', alpha=0.1, transform=plt.gca().get_xaxis_transform())\n",
    "    plt.legend()\n",
    "    plt.xlabel('Data')\n",
    "    plt.ylabel('Valor')\n",
    "    plt.tight_layout()\n",
    "    plt.show()\n"
   ]
  },
  {
   "cell_type": "markdown",
   "id": "0bcce758",
   "metadata": {},
   "source": [
    "\n",
    "## 📊 Exploração de Dados e Justificativa do Modelo\n",
    "\n",
    "A análise de risco de seca se baseia em variáveis como temperatura, umidade, chuva e volume disponível por pessoa. Para prever o risco de seca, aplicaremos **classificação binária** com `RandomForestClassifier`, pois ele lida bem com dados numéricos, não exige normalização e é robusto a ruídos.\n",
    "\n",
    "O objetivo é prever se haverá ou não seca (`RiscoSeca`) com base nas variáveis anteriores, permitindo ações antecipadas.\n",
    "\n"
   ]
  },
  {
   "cell_type": "code",
   "execution_count": null,
   "id": "20bfb508",
   "metadata": {},
   "outputs": [],
   "source": [
    "\n",
    "from sklearn.model_selection import train_test_split\n",
    "from sklearn.ensemble import RandomForestClassifier\n",
    "from sklearn.metrics import classification_report, confusion_matrix\n",
    "from sklearn.preprocessing import LabelEncoder\n",
    "\n",
    "# Codificar coluna DirecaoVento\n",
    "df_ml = df.copy()\n",
    "le = LabelEncoder()\n",
    "df_ml['DirecaoVento'] = le.fit_transform(df_ml['DirecaoVento'])\n",
    "\n",
    "# Variáveis para o modelo\n",
    "X = df_ml[['Temperatura', 'Umidade', 'PontoOrvalho', 'Pressao', 'VelocidadeVento',\n",
    "           'RajadaVento', 'Radiacao', 'Chuva', 'DirecaoVento']]\n",
    "y = df_ml['RiscoSeca']\n",
    "\n",
    "# Separar treino e teste\n",
    "X_train, X_test, y_train, y_test = train_test_split(X, y, test_size=0.3, random_state=42)\n"
   ]
  },
  {
   "cell_type": "code",
   "execution_count": null,
   "id": "1a9c852e",
   "metadata": {},
   "outputs": [],
   "source": [
    "\n",
    "# Modelo Random Forest\n",
    "clf = RandomForestClassifier(n_estimators=100, random_state=42)\n",
    "clf.fit(X_train, y_train)\n",
    "\n",
    "# Avaliação\n",
    "y_pred = clf.predict(X_test)\n",
    "print(\"Matriz de Confusão:\")\n",
    "print(confusion_matrix(y_test, y_pred))\n",
    "print(\"\\nRelatório de Classificação:\")\n",
    "print(classification_report(y_test, y_pred))\n"
   ]
  },
  {
   "cell_type": "code",
   "execution_count": null,
   "id": "7f390d3f",
   "metadata": {},
   "outputs": [],
   "source": [
    "\n",
    "# Exemplo: prever risco com dados médios de uma comunidade\n",
    "exemplo = pd.DataFrame([{\n",
    "    'Temperatura': 34.0,\n",
    "    'Umidade': 25.0,\n",
    "    'PontoOrvalho': 20.0,\n",
    "    'Pressao': 1010,\n",
    "    'VelocidadeVento': 3.0,\n",
    "    'RajadaVento': 6.0,\n",
    "    'Radiacao': 800,\n",
    "    'Chuva': 0.1,\n",
    "    'DirecaoVento': le.transform(['N'])[0]\n",
    "}])\n",
    "\n",
    "previsao = clf.predict(exemplo)[0]\n",
    "print(\"Risco de Seca previsto:\", \"SIM\" if previsao else \"NÃO\")\n"
   ]
  },
  {
   "cell_type": "markdown",
   "id": "df33aa44",
   "metadata": {},
   "source": [
    "\n",
    "## ✅ Conclusão\n",
    "\n",
    "O modelo Random Forest obteve boa performance na classificação do risco de seca. A escolha se deu por:\n",
    "\n",
    "- Robustez a dados ruidosos e multivariados\n",
    "- Boa explicabilidade e importância de features\n",
    "- Facilidade de uso sem necessidade de normalização\n",
    "\n",
    "Esse modelo pode ser integrado em um sistema real para prever automaticamente riscos em comunidades com base em dados meteorológicos diários.\n"
   ]
  }
 ],
 "metadata": {},
 "nbformat": 4,
 "nbformat_minor": 5
}